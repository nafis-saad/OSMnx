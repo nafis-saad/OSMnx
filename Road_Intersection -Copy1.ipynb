{
 "cells": [
  {
   "cell_type": "code",
   "execution_count": 1,
   "id": "948dbb45",
   "metadata": {},
   "outputs": [],
   "source": [
    "import os\n",
    "os.chdir(\"D:\\TransCAD_Lab_ Session\\Lab-3\")"
   ]
  },
  {
   "cell_type": "code",
   "execution_count": 2,
   "id": "1a8e8f0a",
   "metadata": {},
   "outputs": [
    {
     "name": "stdout",
     "output_type": "stream",
     "text": [
      "Defaulting to user installation because normal site-packages is not writeable\n",
      "Requirement already satisfied: geopandas in c:\\users\\hq8312\\appdata\\roaming\\python\\python39\\site-packages (0.14.1)\n",
      "Requirement already satisfied: shapely in c:\\users\\hq8312\\appdata\\roaming\\python\\python39\\site-packages (2.0.2)\n",
      "Requirement already satisfied: pandas>=1.4.0 in c:\\users\\hq8312\\appdata\\roaming\\python\\python39\\site-packages (from geopandas) (1.5.3)\n",
      "Requirement already satisfied: packaging in c:\\program files\\arcgis\\pro\\bin\\python\\envs\\arcgispro-py3\\lib\\site-packages (from geopandas) (21.3)\n",
      "Requirement already satisfied: fiona>=1.8.21 in c:\\users\\hq8312\\appdata\\roaming\\python\\python39\\site-packages (from geopandas) (1.9.5)\n",
      "Requirement already satisfied: pyproj>=3.3.0 in c:\\users\\hq8312\\appdata\\roaming\\python\\python39\\site-packages (from geopandas) (3.6.1)\n",
      "Requirement already satisfied: numpy>=1.14 in c:\\users\\hq8312\\appdata\\roaming\\python\\python39\\site-packages (from shapely) (1.26.1)\n",
      "Requirement already satisfied: setuptools in c:\\program files\\arcgis\\pro\\bin\\python\\envs\\arcgispro-py3\\lib\\site-packages (from fiona>=1.8.21->geopandas) (60.10.0)\n",
      "Requirement already satisfied: certifi in c:\\program files\\arcgis\\pro\\bin\\python\\envs\\arcgispro-py3\\lib\\site-packages (from fiona>=1.8.21->geopandas) (2021.10.8)\n",
      "Requirement already satisfied: click-plugins>=1.0 in c:\\users\\hq8312\\appdata\\roaming\\python\\python39\\site-packages (from fiona>=1.8.21->geopandas) (1.1.1)\n",
      "Requirement already satisfied: six in c:\\program files\\arcgis\\pro\\bin\\python\\envs\\arcgispro-py3\\lib\\site-packages (from fiona>=1.8.21->geopandas) (1.16.0)\n",
      "Requirement already satisfied: cligj>=0.5 in c:\\users\\hq8312\\appdata\\roaming\\python\\python39\\site-packages (from fiona>=1.8.21->geopandas) (0.7.2)\n",
      "Requirement already satisfied: attrs>=19.2.0 in c:\\program files\\arcgis\\pro\\bin\\python\\envs\\arcgispro-py3\\lib\\site-packages (from fiona>=1.8.21->geopandas) (21.4.0)\n",
      "Requirement already satisfied: importlib-metadata in c:\\program files\\arcgis\\pro\\bin\\python\\envs\\arcgispro-py3\\lib\\site-packages (from fiona>=1.8.21->geopandas) (4.11.3)\n",
      "Requirement already satisfied: click~=8.0 in c:\\program files\\arcgis\\pro\\bin\\python\\envs\\arcgispro-py3\\lib\\site-packages (from fiona>=1.8.21->geopandas) (8.0.4)\n",
      "Requirement already satisfied: colorama in c:\\users\\hq8312\\appdata\\roaming\\python\\python39\\site-packages (from click~=8.0->fiona>=1.8.21->geopandas) (0.4.6)\n",
      "Requirement already satisfied: pytz>=2020.1 in c:\\program files\\arcgis\\pro\\bin\\python\\envs\\arcgispro-py3\\lib\\site-packages\\pytz-2022.1-py3.9.egg (from pandas>=1.4.0->geopandas) (2022.1)\n",
      "Requirement already satisfied: python-dateutil>=2.8.1 in c:\\program files\\arcgis\\pro\\bin\\python\\envs\\arcgispro-py3\\lib\\site-packages (from pandas>=1.4.0->geopandas) (2.8.2)\n",
      "Requirement already satisfied: zipp>=0.5 in c:\\program files\\arcgis\\pro\\bin\\python\\envs\\arcgispro-py3\\lib\\site-packages (from importlib-metadata->fiona>=1.8.21->geopandas) (3.7.0)\n",
      "Requirement already satisfied: pyparsing!=3.0.5,>=2.0.2 in c:\\program files\\arcgis\\pro\\bin\\python\\envs\\arcgispro-py3\\lib\\site-packages (from packaging->geopandas) (3.0.4)\n"
     ]
    }
   ],
   "source": [
    "!pip install geopandas shapely\n"
   ]
  },
  {
   "cell_type": "code",
   "execution_count": 5,
   "id": "1fad8a46",
   "metadata": {},
   "outputs": [
    {
     "name": "stdout",
     "output_type": "stream",
     "text": [
      "Defaulting to user installation because normal site-packages is not writeable\n",
      "Collecting osmnx\n",
      "  Downloading osmnx-1.7.1-py3-none-any.whl (102 kB)\n",
      "Requirement already satisfied: numpy>=1.20 in c:\\users\\hq8312\\appdata\\roaming\\python\\python39\\site-packages (from osmnx) (1.26.1)\n",
      "Requirement already satisfied: networkx>=2.5 in c:\\program files\\arcgis\\pro\\bin\\python\\envs\\arcgispro-py3\\lib\\site-packages (from osmnx) (2.7.1)\n",
      "Requirement already satisfied: shapely>=2.0 in c:\\users\\hq8312\\appdata\\roaming\\python\\python39\\site-packages (from osmnx) (2.0.2)\n",
      "Requirement already satisfied: pandas>=1.1 in c:\\users\\hq8312\\appdata\\roaming\\python\\python39\\site-packages (from osmnx) (1.5.3)\n",
      "Requirement already satisfied: requests>=2.27 in c:\\program files\\arcgis\\pro\\bin\\python\\envs\\arcgispro-py3\\lib\\site-packages (from osmnx) (2.27.1)\n",
      "Requirement already satisfied: geopandas>=0.12 in c:\\users\\hq8312\\appdata\\roaming\\python\\python39\\site-packages (from osmnx) (0.14.1)\n",
      "Requirement already satisfied: pyproj>=3.3.0 in c:\\users\\hq8312\\appdata\\roaming\\python\\python39\\site-packages (from geopandas>=0.12->osmnx) (3.6.1)\n",
      "Requirement already satisfied: packaging in c:\\program files\\arcgis\\pro\\bin\\python\\envs\\arcgispro-py3\\lib\\site-packages (from geopandas>=0.12->osmnx) (21.3)\n",
      "Requirement already satisfied: fiona>=1.8.21 in c:\\users\\hq8312\\appdata\\roaming\\python\\python39\\site-packages (from geopandas>=0.12->osmnx) (1.9.5)\n",
      "Requirement already satisfied: setuptools in c:\\program files\\arcgis\\pro\\bin\\python\\envs\\arcgispro-py3\\lib\\site-packages (from fiona>=1.8.21->geopandas>=0.12->osmnx) (60.10.0)\n",
      "Requirement already satisfied: cligj>=0.5 in c:\\users\\hq8312\\appdata\\roaming\\python\\python39\\site-packages (from fiona>=1.8.21->geopandas>=0.12->osmnx) (0.7.2)\n",
      "Requirement already satisfied: six in c:\\program files\\arcgis\\pro\\bin\\python\\envs\\arcgispro-py3\\lib\\site-packages (from fiona>=1.8.21->geopandas>=0.12->osmnx) (1.16.0)\n",
      "Requirement already satisfied: click~=8.0 in c:\\program files\\arcgis\\pro\\bin\\python\\envs\\arcgispro-py3\\lib\\site-packages (from fiona>=1.8.21->geopandas>=0.12->osmnx) (8.0.4)\n",
      "Requirement already satisfied: certifi in c:\\program files\\arcgis\\pro\\bin\\python\\envs\\arcgispro-py3\\lib\\site-packages (from fiona>=1.8.21->geopandas>=0.12->osmnx) (2021.10.8)\n",
      "Requirement already satisfied: importlib-metadata in c:\\program files\\arcgis\\pro\\bin\\python\\envs\\arcgispro-py3\\lib\\site-packages (from fiona>=1.8.21->geopandas>=0.12->osmnx) (4.11.3)\n",
      "Requirement already satisfied: click-plugins>=1.0 in c:\\users\\hq8312\\appdata\\roaming\\python\\python39\\site-packages (from fiona>=1.8.21->geopandas>=0.12->osmnx) (1.1.1)\n",
      "Requirement already satisfied: attrs>=19.2.0 in c:\\program files\\arcgis\\pro\\bin\\python\\envs\\arcgispro-py3\\lib\\site-packages (from fiona>=1.8.21->geopandas>=0.12->osmnx) (21.4.0)\n",
      "Requirement already satisfied: colorama in c:\\users\\hq8312\\appdata\\roaming\\python\\python39\\site-packages (from click~=8.0->fiona>=1.8.21->geopandas>=0.12->osmnx) (0.4.6)\n",
      "Requirement already satisfied: python-dateutil>=2.8.1 in c:\\program files\\arcgis\\pro\\bin\\python\\envs\\arcgispro-py3\\lib\\site-packages (from pandas>=1.1->osmnx) (2.8.2)\n",
      "Requirement already satisfied: pytz>=2020.1 in c:\\program files\\arcgis\\pro\\bin\\python\\envs\\arcgispro-py3\\lib\\site-packages\\pytz-2022.1-py3.9.egg (from pandas>=1.1->osmnx) (2022.1)\n",
      "Requirement already satisfied: urllib3<1.27,>=1.21.1 in c:\\program files\\arcgis\\pro\\bin\\python\\envs\\arcgispro-py3\\lib\\site-packages (from requests>=2.27->osmnx) (1.26.8)\n",
      "Requirement already satisfied: idna<4,>=2.5 in c:\\program files\\arcgis\\pro\\bin\\python\\envs\\arcgispro-py3\\lib\\site-packages (from requests>=2.27->osmnx) (3.3)\n",
      "Requirement already satisfied: charset-normalizer~=2.0.0 in c:\\program files\\arcgis\\pro\\bin\\python\\envs\\arcgispro-py3\\lib\\site-packages (from requests>=2.27->osmnx) (2.0.4)\n",
      "Requirement already satisfied: zipp>=0.5 in c:\\program files\\arcgis\\pro\\bin\\python\\envs\\arcgispro-py3\\lib\\site-packages (from importlib-metadata->fiona>=1.8.21->geopandas>=0.12->osmnx) (3.7.0)\n",
      "Requirement already satisfied: pyparsing!=3.0.5,>=2.0.2 in c:\\program files\\arcgis\\pro\\bin\\python\\envs\\arcgispro-py3\\lib\\site-packages (from packaging->geopandas>=0.12->osmnx) (3.0.4)\n",
      "Installing collected packages: osmnx\n",
      "Successfully installed osmnx-1.7.1\n"
     ]
    }
   ],
   "source": [
    "!pip install osmnx\n"
   ]
  },
  {
   "cell_type": "code",
   "execution_count": null,
   "id": "4749a44b",
   "metadata": {},
   "outputs": [],
   "source": [
    "import osmnx as ox\n",
    "\n",
    "# Specify the location\n",
    "place = \"California, USA\"\n",
    "\n",
    "# Download the road network\n",
    "network = ox.graph_from_place(place, network_type='drive')\n",
    "\n",
    "# Extract intersections as a GeoDataFrame\n",
    "intersections = ox.graph_to_gdfs(network, nodes=True, edges=False)\n",
    "\n",
    "# You can then save this to a shapefile\n",
    "intersections.to_file('California.shp')"
   ]
  },
  {
   "cell_type": "code",
   "execution_count": 1,
   "id": "f25a1dc2",
   "metadata": {},
   "outputs": [
    {
     "name": "stderr",
     "output_type": "stream",
     "text": [
      "<ipython-input-1-d01cb72cf3a3>:18: FutureWarning: The frame.append method is deprecated and will be removed from pandas in a future version. Use pandas.concat instead.\n",
      "  all_nodes = all_nodes.append(nodes)\n",
      "<ipython-input-1-d01cb72cf3a3>:18: FutureWarning: The frame.append method is deprecated and will be removed from pandas in a future version. Use pandas.concat instead.\n",
      "  all_nodes = all_nodes.append(nodes)\n",
      "<ipython-input-1-d01cb72cf3a3>:18: FutureWarning: The frame.append method is deprecated and will be removed from pandas in a future version. Use pandas.concat instead.\n",
      "  all_nodes = all_nodes.append(nodes)\n",
      "<ipython-input-1-d01cb72cf3a3>:21: UserWarning: Column names longer than 10 characters will be truncated when saved to ESRI Shapefile.\n",
      "  all_nodes.to_file('multiple_places_nodes.shp')\n"
     ]
    },
    {
     "ename": "TypeError",
     "evalue": "Cannot interpret '<geopandas.array.GeometryDtype object at 0x0000022FE75704F0>' as a data type",
     "output_type": "error",
     "traceback": [
      "\u001b[1;31m---------------------------------------------------------------------------\u001b[0m",
      "\u001b[1;31mTypeError\u001b[0m                                 Traceback (most recent call last)",
      "\u001b[1;32m<ipython-input-1-d01cb72cf3a3>\u001b[0m in \u001b[0;36m<module>\u001b[1;34m\u001b[0m\n\u001b[0;32m     19\u001b[0m \u001b[1;33m\u001b[0m\u001b[0m\n\u001b[0;32m     20\u001b[0m \u001b[1;31m# Save all nodes to a shapefile\u001b[0m\u001b[1;33m\u001b[0m\u001b[1;33m\u001b[0m\u001b[0m\n\u001b[1;32m---> 21\u001b[1;33m \u001b[0mall_nodes\u001b[0m\u001b[1;33m.\u001b[0m\u001b[0mto_file\u001b[0m\u001b[1;33m(\u001b[0m\u001b[1;34m'multiple_places_nodes.shp'\u001b[0m\u001b[1;33m)\u001b[0m\u001b[1;33m\u001b[0m\u001b[1;33m\u001b[0m\u001b[0m\n\u001b[0m",
      "\u001b[1;32m~\\AppData\\Roaming\\Python\\Python39\\site-packages\\geopandas\\geodataframe.py\u001b[0m in \u001b[0;36mto_file\u001b[1;34m(self, filename, driver, schema, index, **kwargs)\u001b[0m\n\u001b[0;32m   1262\u001b[0m         \u001b[1;32mfrom\u001b[0m \u001b[0mgeopandas\u001b[0m\u001b[1;33m.\u001b[0m\u001b[0mio\u001b[0m\u001b[1;33m.\u001b[0m\u001b[0mfile\u001b[0m \u001b[1;32mimport\u001b[0m \u001b[0m_to_file\u001b[0m\u001b[1;33m\u001b[0m\u001b[1;33m\u001b[0m\u001b[0m\n\u001b[0;32m   1263\u001b[0m \u001b[1;33m\u001b[0m\u001b[0m\n\u001b[1;32m-> 1264\u001b[1;33m         \u001b[0m_to_file\u001b[0m\u001b[1;33m(\u001b[0m\u001b[0mself\u001b[0m\u001b[1;33m,\u001b[0m \u001b[0mfilename\u001b[0m\u001b[1;33m,\u001b[0m \u001b[0mdriver\u001b[0m\u001b[1;33m,\u001b[0m \u001b[0mschema\u001b[0m\u001b[1;33m,\u001b[0m \u001b[0mindex\u001b[0m\u001b[1;33m,\u001b[0m \u001b[1;33m**\u001b[0m\u001b[0mkwargs\u001b[0m\u001b[1;33m)\u001b[0m\u001b[1;33m\u001b[0m\u001b[1;33m\u001b[0m\u001b[0m\n\u001b[0m\u001b[0;32m   1265\u001b[0m \u001b[1;33m\u001b[0m\u001b[0m\n\u001b[0;32m   1266\u001b[0m     \u001b[1;32mdef\u001b[0m \u001b[0mset_crs\u001b[0m\u001b[1;33m(\u001b[0m\u001b[0mself\u001b[0m\u001b[1;33m,\u001b[0m \u001b[0mcrs\u001b[0m\u001b[1;33m=\u001b[0m\u001b[1;32mNone\u001b[0m\u001b[1;33m,\u001b[0m \u001b[0mepsg\u001b[0m\u001b[1;33m=\u001b[0m\u001b[1;32mNone\u001b[0m\u001b[1;33m,\u001b[0m \u001b[0minplace\u001b[0m\u001b[1;33m=\u001b[0m\u001b[1;32mFalse\u001b[0m\u001b[1;33m,\u001b[0m \u001b[0mallow_override\u001b[0m\u001b[1;33m=\u001b[0m\u001b[1;32mFalse\u001b[0m\u001b[1;33m)\u001b[0m\u001b[1;33m:\u001b[0m\u001b[1;33m\u001b[0m\u001b[1;33m\u001b[0m\u001b[0m\n",
      "\u001b[1;32m~\\AppData\\Roaming\\Python\\Python39\\site-packages\\geopandas\\io\\file.py\u001b[0m in \u001b[0;36m_to_file\u001b[1;34m(df, filename, driver, schema, index, mode, crs, engine, **kwargs)\u001b[0m\n\u001b[0;32m    610\u001b[0m \u001b[1;33m\u001b[0m\u001b[0m\n\u001b[0;32m    611\u001b[0m     \u001b[1;32mif\u001b[0m \u001b[0mengine\u001b[0m \u001b[1;33m==\u001b[0m \u001b[1;34m\"fiona\"\u001b[0m\u001b[1;33m:\u001b[0m\u001b[1;33m\u001b[0m\u001b[1;33m\u001b[0m\u001b[0m\n\u001b[1;32m--> 612\u001b[1;33m         \u001b[0m_to_file_fiona\u001b[0m\u001b[1;33m(\u001b[0m\u001b[0mdf\u001b[0m\u001b[1;33m,\u001b[0m \u001b[0mfilename\u001b[0m\u001b[1;33m,\u001b[0m \u001b[0mdriver\u001b[0m\u001b[1;33m,\u001b[0m \u001b[0mschema\u001b[0m\u001b[1;33m,\u001b[0m \u001b[0mcrs\u001b[0m\u001b[1;33m,\u001b[0m \u001b[0mmode\u001b[0m\u001b[1;33m,\u001b[0m \u001b[1;33m**\u001b[0m\u001b[0mkwargs\u001b[0m\u001b[1;33m)\u001b[0m\u001b[1;33m\u001b[0m\u001b[1;33m\u001b[0m\u001b[0m\n\u001b[0m\u001b[0;32m    613\u001b[0m     \u001b[1;32melif\u001b[0m \u001b[0mengine\u001b[0m \u001b[1;33m==\u001b[0m \u001b[1;34m\"pyogrio\"\u001b[0m\u001b[1;33m:\u001b[0m\u001b[1;33m\u001b[0m\u001b[1;33m\u001b[0m\u001b[0m\n\u001b[0;32m    614\u001b[0m         \u001b[0m_to_file_pyogrio\u001b[0m\u001b[1;33m(\u001b[0m\u001b[0mdf\u001b[0m\u001b[1;33m,\u001b[0m \u001b[0mfilename\u001b[0m\u001b[1;33m,\u001b[0m \u001b[0mdriver\u001b[0m\u001b[1;33m,\u001b[0m \u001b[0mschema\u001b[0m\u001b[1;33m,\u001b[0m \u001b[0mcrs\u001b[0m\u001b[1;33m,\u001b[0m \u001b[0mmode\u001b[0m\u001b[1;33m,\u001b[0m \u001b[1;33m**\u001b[0m\u001b[0mkwargs\u001b[0m\u001b[1;33m)\u001b[0m\u001b[1;33m\u001b[0m\u001b[1;33m\u001b[0m\u001b[0m\n",
      "\u001b[1;32m~\\AppData\\Roaming\\Python\\Python39\\site-packages\\geopandas\\io\\file.py\u001b[0m in \u001b[0;36m_to_file_fiona\u001b[1;34m(df, filename, driver, schema, crs, mode, **kwargs)\u001b[0m\n\u001b[0;32m    619\u001b[0m \u001b[1;32mdef\u001b[0m \u001b[0m_to_file_fiona\u001b[0m\u001b[1;33m(\u001b[0m\u001b[0mdf\u001b[0m\u001b[1;33m,\u001b[0m \u001b[0mfilename\u001b[0m\u001b[1;33m,\u001b[0m \u001b[0mdriver\u001b[0m\u001b[1;33m,\u001b[0m \u001b[0mschema\u001b[0m\u001b[1;33m,\u001b[0m \u001b[0mcrs\u001b[0m\u001b[1;33m,\u001b[0m \u001b[0mmode\u001b[0m\u001b[1;33m,\u001b[0m \u001b[1;33m**\u001b[0m\u001b[0mkwargs\u001b[0m\u001b[1;33m)\u001b[0m\u001b[1;33m:\u001b[0m\u001b[1;33m\u001b[0m\u001b[1;33m\u001b[0m\u001b[0m\n\u001b[0;32m    620\u001b[0m     \u001b[1;32mif\u001b[0m \u001b[0mschema\u001b[0m \u001b[1;32mis\u001b[0m \u001b[1;32mNone\u001b[0m\u001b[1;33m:\u001b[0m\u001b[1;33m\u001b[0m\u001b[1;33m\u001b[0m\u001b[0m\n\u001b[1;32m--> 621\u001b[1;33m         \u001b[0mschema\u001b[0m \u001b[1;33m=\u001b[0m \u001b[0minfer_schema\u001b[0m\u001b[1;33m(\u001b[0m\u001b[0mdf\u001b[0m\u001b[1;33m)\u001b[0m\u001b[1;33m\u001b[0m\u001b[1;33m\u001b[0m\u001b[0m\n\u001b[0m\u001b[0;32m    622\u001b[0m \u001b[1;33m\u001b[0m\u001b[0m\n\u001b[0;32m    623\u001b[0m     \u001b[1;32mif\u001b[0m \u001b[0mcrs\u001b[0m\u001b[1;33m:\u001b[0m\u001b[1;33m\u001b[0m\u001b[1;33m\u001b[0m\u001b[0m\n",
      "\u001b[1;32m~\\AppData\\Roaming\\Python\\Python39\\site-packages\\geopandas\\io\\file.py\u001b[0m in \u001b[0;36minfer_schema\u001b[1;34m(df)\u001b[0m\n\u001b[0;32m    690\u001b[0m \u001b[1;33m\u001b[0m\u001b[0m\n\u001b[0;32m    691\u001b[0m     properties = OrderedDict(\n\u001b[1;32m--> 692\u001b[1;33m         [\n\u001b[0m\u001b[0;32m    693\u001b[0m             \u001b[1;33m(\u001b[0m\u001b[0mcol\u001b[0m\u001b[1;33m,\u001b[0m \u001b[0mconvert_type\u001b[0m\u001b[1;33m(\u001b[0m\u001b[0mcol\u001b[0m\u001b[1;33m,\u001b[0m \u001b[0m_type\u001b[0m\u001b[1;33m)\u001b[0m\u001b[1;33m)\u001b[0m\u001b[1;33m\u001b[0m\u001b[1;33m\u001b[0m\u001b[0m\n\u001b[0;32m    694\u001b[0m             \u001b[1;32mfor\u001b[0m \u001b[0mcol\u001b[0m\u001b[1;33m,\u001b[0m \u001b[0m_type\u001b[0m \u001b[1;32min\u001b[0m \u001b[0mzip\u001b[0m\u001b[1;33m(\u001b[0m\u001b[0mdf\u001b[0m\u001b[1;33m.\u001b[0m\u001b[0mcolumns\u001b[0m\u001b[1;33m,\u001b[0m \u001b[0mdf\u001b[0m\u001b[1;33m.\u001b[0m\u001b[0mdtypes\u001b[0m\u001b[1;33m)\u001b[0m\u001b[1;33m\u001b[0m\u001b[1;33m\u001b[0m\u001b[0m\n",
      "\u001b[1;32m~\\AppData\\Roaming\\Python\\Python39\\site-packages\\geopandas\\io\\file.py\u001b[0m in \u001b[0;36m<listcomp>\u001b[1;34m(.0)\u001b[0m\n\u001b[0;32m    691\u001b[0m     properties = OrderedDict(\n\u001b[0;32m    692\u001b[0m         [\n\u001b[1;32m--> 693\u001b[1;33m             \u001b[1;33m(\u001b[0m\u001b[0mcol\u001b[0m\u001b[1;33m,\u001b[0m \u001b[0mconvert_type\u001b[0m\u001b[1;33m(\u001b[0m\u001b[0mcol\u001b[0m\u001b[1;33m,\u001b[0m \u001b[0m_type\u001b[0m\u001b[1;33m)\u001b[0m\u001b[1;33m)\u001b[0m\u001b[1;33m\u001b[0m\u001b[1;33m\u001b[0m\u001b[0m\n\u001b[0m\u001b[0;32m    694\u001b[0m             \u001b[1;32mfor\u001b[0m \u001b[0mcol\u001b[0m\u001b[1;33m,\u001b[0m \u001b[0m_type\u001b[0m \u001b[1;32min\u001b[0m \u001b[0mzip\u001b[0m\u001b[1;33m(\u001b[0m\u001b[0mdf\u001b[0m\u001b[1;33m.\u001b[0m\u001b[0mcolumns\u001b[0m\u001b[1;33m,\u001b[0m \u001b[0mdf\u001b[0m\u001b[1;33m.\u001b[0m\u001b[0mdtypes\u001b[0m\u001b[1;33m)\u001b[0m\u001b[1;33m\u001b[0m\u001b[1;33m\u001b[0m\u001b[0m\n\u001b[0;32m    695\u001b[0m             \u001b[1;32mif\u001b[0m \u001b[0mcol\u001b[0m \u001b[1;33m!=\u001b[0m \u001b[0mdf\u001b[0m\u001b[1;33m.\u001b[0m\u001b[0m_geometry_column_name\u001b[0m\u001b[1;33m\u001b[0m\u001b[1;33m\u001b[0m\u001b[0m\n",
      "\u001b[1;32m~\\AppData\\Roaming\\Python\\Python39\\site-packages\\geopandas\\io\\file.py\u001b[0m in \u001b[0;36mconvert_type\u001b[1;34m(column, in_type)\u001b[0m\n\u001b[0;32m    684\u001b[0m             \u001b[0mout_type\u001b[0m \u001b[1;33m=\u001b[0m \u001b[0mtypes\u001b[0m\u001b[1;33m[\u001b[0m\u001b[0mstr\u001b[0m\u001b[1;33m(\u001b[0m\u001b[0min_type\u001b[0m\u001b[1;33m)\u001b[0m\u001b[1;33m]\u001b[0m\u001b[1;33m\u001b[0m\u001b[1;33m\u001b[0m\u001b[0m\n\u001b[0;32m    685\u001b[0m         \u001b[1;32melse\u001b[0m\u001b[1;33m:\u001b[0m\u001b[1;33m\u001b[0m\u001b[1;33m\u001b[0m\u001b[0m\n\u001b[1;32m--> 686\u001b[1;33m             \u001b[0mout_type\u001b[0m \u001b[1;33m=\u001b[0m \u001b[0mtype\u001b[0m\u001b[1;33m(\u001b[0m\u001b[0mnp\u001b[0m\u001b[1;33m.\u001b[0m\u001b[0mzeros\u001b[0m\u001b[1;33m(\u001b[0m\u001b[1;36m1\u001b[0m\u001b[1;33m,\u001b[0m \u001b[0min_type\u001b[0m\u001b[1;33m)\u001b[0m\u001b[1;33m.\u001b[0m\u001b[0mitem\u001b[0m\u001b[1;33m(\u001b[0m\u001b[1;33m)\u001b[0m\u001b[1;33m)\u001b[0m\u001b[1;33m.\u001b[0m\u001b[0m__name__\u001b[0m\u001b[1;33m\u001b[0m\u001b[1;33m\u001b[0m\u001b[0m\n\u001b[0m\u001b[0;32m    687\u001b[0m         \u001b[1;32mif\u001b[0m \u001b[0mout_type\u001b[0m \u001b[1;33m==\u001b[0m \u001b[1;34m\"long\"\u001b[0m\u001b[1;33m:\u001b[0m\u001b[1;33m\u001b[0m\u001b[1;33m\u001b[0m\u001b[0m\n\u001b[0;32m    688\u001b[0m             \u001b[0mout_type\u001b[0m \u001b[1;33m=\u001b[0m \u001b[1;34m\"int\"\u001b[0m\u001b[1;33m\u001b[0m\u001b[1;33m\u001b[0m\u001b[0m\n",
      "\u001b[1;31mTypeError\u001b[0m: Cannot interpret '<geopandas.array.GeometryDtype object at 0x0000022FE75704F0>' as a data type"
     ]
    }
   ],
   "source": [
    "import osmnx as ox\n",
    "import geopandas as gpd\n",
    "\n",
    "# List of places\n",
    "places = [\"Sacramento County, California, USA\", \"Yolo County, California, USA\", \"Solano County, California, USA\"]\n",
    "\n",
    "# Empty GeoDataFrame to store nodes\n",
    "all_nodes = gpd.GeoDataFrame()\n",
    "\n",
    "for place in places:\n",
    "    # Download the road network for each place\n",
    "    network = ox.graph_from_place(place, network_type='drive')\n",
    "\n",
    "    # Extract nodes\n",
    "    nodes = ox.graph_to_gdfs(network, nodes=True, edges=False)\n",
    "\n",
    "    # Append nodes to the all_nodes GeoDataFrame\n",
    "    all_nodes = all_nodes.append(nodes)\n",
    "\n",
    "# Save all nodes to a shapefile\n",
    "all_nodes.to_file('multiple_places_nodes.shp')\n"
   ]
  },
  {
   "cell_type": "code",
   "execution_count": 2,
   "id": "c0d3422d",
   "metadata": {},
   "outputs": [
    {
     "name": "stdout",
     "output_type": "stream",
     "text": [
      "Defaulting to user installation because normal site-packages is not writeable\n",
      "Requirement already satisfied: geopandas in c:\\users\\hq8312\\appdata\\roaming\\python\\python39\\site-packages (0.14.1)\n",
      "Requirement already satisfied: pandas in c:\\users\\hq8312\\appdata\\roaming\\python\\python39\\site-packages (1.5.3)\n",
      "Collecting pandas\n",
      "  Downloading pandas-2.1.3-cp39-cp39-win_amd64.whl (10.8 MB)\n",
      "Requirement already satisfied: packaging in c:\\program files\\arcgis\\pro\\bin\\python\\envs\\arcgispro-py3\\lib\\site-packages (from geopandas) (21.3)\n",
      "Requirement already satisfied: fiona>=1.8.21 in c:\\users\\hq8312\\appdata\\roaming\\python\\python39\\site-packages (from geopandas) (1.9.5)\n",
      "Requirement already satisfied: shapely>=1.8.0 in c:\\users\\hq8312\\appdata\\roaming\\python\\python39\\site-packages (from geopandas) (2.0.2)\n",
      "Requirement already satisfied: pyproj>=3.3.0 in c:\\users\\hq8312\\appdata\\roaming\\python\\python39\\site-packages (from geopandas) (3.6.1)\n",
      "Collecting tzdata>=2022.1\n",
      "  Using cached tzdata-2023.3-py2.py3-none-any.whl (341 kB)\n",
      "Requirement already satisfied: pytz>=2020.1 in c:\\program files\\arcgis\\pro\\bin\\python\\envs\\arcgispro-py3\\lib\\site-packages\\pytz-2022.1-py3.9.egg (from pandas) (2022.1)\n",
      "Requirement already satisfied: python-dateutil>=2.8.2 in c:\\program files\\arcgis\\pro\\bin\\python\\envs\\arcgispro-py3\\lib\\site-packages (from pandas) (2.8.2)\n",
      "Requirement already satisfied: numpy<2,>=1.22.4 in c:\\users\\hq8312\\appdata\\roaming\\python\\python39\\site-packages (from pandas) (1.26.1)\n",
      "Requirement already satisfied: certifi in c:\\program files\\arcgis\\pro\\bin\\python\\envs\\arcgispro-py3\\lib\\site-packages (from fiona>=1.8.21->geopandas) (2021.10.8)\n",
      "Requirement already satisfied: attrs>=19.2.0 in c:\\program files\\arcgis\\pro\\bin\\python\\envs\\arcgispro-py3\\lib\\site-packages (from fiona>=1.8.21->geopandas) (21.4.0)\n",
      "Requirement already satisfied: six in c:\\program files\\arcgis\\pro\\bin\\python\\envs\\arcgispro-py3\\lib\\site-packages (from fiona>=1.8.21->geopandas) (1.16.0)\n",
      "Requirement already satisfied: cligj>=0.5 in c:\\users\\hq8312\\appdata\\roaming\\python\\python39\\site-packages (from fiona>=1.8.21->geopandas) (0.7.2)\n",
      "Requirement already satisfied: importlib-metadata in c:\\program files\\arcgis\\pro\\bin\\python\\envs\\arcgispro-py3\\lib\\site-packages (from fiona>=1.8.21->geopandas) (4.11.3)\n",
      "Requirement already satisfied: click-plugins>=1.0 in c:\\users\\hq8312\\appdata\\roaming\\python\\python39\\site-packages (from fiona>=1.8.21->geopandas) (1.1.1)\n",
      "Requirement already satisfied: setuptools in c:\\program files\\arcgis\\pro\\bin\\python\\envs\\arcgispro-py3\\lib\\site-packages (from fiona>=1.8.21->geopandas) (60.10.0)\n",
      "Requirement already satisfied: click~=8.0 in c:\\program files\\arcgis\\pro\\bin\\python\\envs\\arcgispro-py3\\lib\\site-packages (from fiona>=1.8.21->geopandas) (8.0.4)\n",
      "Requirement already satisfied: colorama in c:\\users\\hq8312\\appdata\\roaming\\python\\python39\\site-packages (from click~=8.0->fiona>=1.8.21->geopandas) (0.4.6)\n",
      "Requirement already satisfied: zipp>=0.5 in c:\\program files\\arcgis\\pro\\bin\\python\\envs\\arcgispro-py3\\lib\\site-packages (from importlib-metadata->fiona>=1.8.21->geopandas) (3.7.0)\n",
      "Requirement already satisfied: pyparsing!=3.0.5,>=2.0.2 in c:\\program files\\arcgis\\pro\\bin\\python\\envs\\arcgispro-py3\\lib\\site-packages (from packaging->geopandas) (3.0.4)\n",
      "Installing collected packages: tzdata, pandas\n",
      "  Attempting uninstall: pandas\n",
      "    Found existing installation: pandas 1.5.3\n",
      "    Uninstalling pandas-1.5.3:\n",
      "      Successfully uninstalled pandas-1.5.3\n"
     ]
    },
    {
     "name": "stderr",
     "output_type": "stream",
     "text": [
      "ERROR: Could not install packages due to an OSError: [WinError 5] Access is denied: 'C:\\\\Users\\\\hq8312\\\\AppData\\\\Roaming\\\\Python\\\\Python39\\\\site-packages\\\\~andas\\\\_libs\\\\algos.cp39-win_amd64.pyd'\n",
      "Check the permissions.\n",
      "\n"
     ]
    }
   ],
   "source": [
    "!pip install --upgrade geopandas pandas\n"
   ]
  },
  {
   "cell_type": "code",
   "execution_count": 4,
   "id": "7a1b1604",
   "metadata": {},
   "outputs": [
    {
     "name": "stderr",
     "output_type": "stream",
     "text": [
      "<ipython-input-4-97f590185860>:25: UserWarning: Column names longer than 10 characters will be truncated when saved to ESRI Shapefile.\n",
      "  all_nodes.to_file('multiple_places_nodes.shp')\n"
     ]
    }
   ],
   "source": [
    "import osmnx as ox\n",
    "import pandas as pd\n",
    "\n",
    "# List of places\n",
    "places = [\"Sacramento County, California, USA\", \"Yolo County, California, USA\", \"Solano County, California, USA\"]\n",
    "\n",
    "# List to store nodes GeoDataFrames\n",
    "nodes_list = []\n",
    "\n",
    "for place in places:\n",
    "    # Download the road network\n",
    "    network = ox.graph_from_place(place, network_type='drive')\n",
    "\n",
    "    # Extract nodes and ensure CRS is set\n",
    "    nodes = ox.graph_to_gdfs(network, nodes=True, edges=False)\n",
    "    nodes.crs = network.graph['crs']\n",
    "    \n",
    "    # Add to the list\n",
    "    nodes_list.append(nodes)\n",
    "\n",
    "# Concatenate all nodes GeoDataFrames\n",
    "all_nodes = pd.concat(nodes_list, ignore_index=True)\n",
    "\n",
    "# Save to a shapefile\n",
    "all_nodes.to_file('multiple_places_nodes.shp')\n"
   ]
  }
 ],
 "metadata": {
  "kernelspec": {
   "display_name": "Python 3",
   "language": "python",
   "name": "python3"
  },
  "language_info": {
   "codemirror_mode": {
    "name": "ipython",
    "version": 3
   },
   "file_extension": ".py",
   "mimetype": "text/x-python",
   "name": "python",
   "nbconvert_exporter": "python",
   "pygments_lexer": "ipython3",
   "version": "3.9.11"
  }
 },
 "nbformat": 4,
 "nbformat_minor": 5
}
