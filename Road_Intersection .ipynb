{
 "cells": [
  {
   "cell_type": "code",
   "execution_count": 1,
   "id": "8fa19ba9",
   "metadata": {},
   "outputs": [],
   "source": [
    "import os\n",
    "os.chdir(\"D:\\TransCAD_Lab_ Session\\Lab-3\")"
   ]
  },
  {
   "cell_type": "code",
   "execution_count": 2,
   "id": "d0e65914",
   "metadata": {},
   "outputs": [
    {
     "name": "stdout",
     "output_type": "stream",
     "text": [
      "Defaulting to user installation because normal site-packages is not writeable\n",
      "Requirement already satisfied: geopandas in c:\\users\\hq8312\\appdata\\roaming\\python\\python39\\site-packages (0.14.1)\n",
      "Requirement already satisfied: shapely in c:\\users\\hq8312\\appdata\\roaming\\python\\python39\\site-packages (2.0.2)\n",
      "Requirement already satisfied: pandas>=1.4.0 in c:\\users\\hq8312\\appdata\\roaming\\python\\python39\\site-packages (from geopandas) (1.5.3)\n",
      "Requirement already satisfied: packaging in c:\\program files\\arcgis\\pro\\bin\\python\\envs\\arcgispro-py3\\lib\\site-packages (from geopandas) (21.3)\n",
      "Requirement already satisfied: fiona>=1.8.21 in c:\\users\\hq8312\\appdata\\roaming\\python\\python39\\site-packages (from geopandas) (1.9.5)\n",
      "Requirement already satisfied: pyproj>=3.3.0 in c:\\users\\hq8312\\appdata\\roaming\\python\\python39\\site-packages (from geopandas) (3.6.1)\n",
      "Requirement already satisfied: numpy>=1.14 in c:\\users\\hq8312\\appdata\\roaming\\python\\python39\\site-packages (from shapely) (1.26.1)\n",
      "Requirement already satisfied: setuptools in c:\\program files\\arcgis\\pro\\bin\\python\\envs\\arcgispro-py3\\lib\\site-packages (from fiona>=1.8.21->geopandas) (60.10.0)\n",
      "Requirement already satisfied: certifi in c:\\program files\\arcgis\\pro\\bin\\python\\envs\\arcgispro-py3\\lib\\site-packages (from fiona>=1.8.21->geopandas) (2021.10.8)\n",
      "Requirement already satisfied: click-plugins>=1.0 in c:\\users\\hq8312\\appdata\\roaming\\python\\python39\\site-packages (from fiona>=1.8.21->geopandas) (1.1.1)\n",
      "Requirement already satisfied: six in c:\\program files\\arcgis\\pro\\bin\\python\\envs\\arcgispro-py3\\lib\\site-packages (from fiona>=1.8.21->geopandas) (1.16.0)\n",
      "Requirement already satisfied: cligj>=0.5 in c:\\users\\hq8312\\appdata\\roaming\\python\\python39\\site-packages (from fiona>=1.8.21->geopandas) (0.7.2)\n",
      "Requirement already satisfied: attrs>=19.2.0 in c:\\program files\\arcgis\\pro\\bin\\python\\envs\\arcgispro-py3\\lib\\site-packages (from fiona>=1.8.21->geopandas) (21.4.0)\n",
      "Requirement already satisfied: importlib-metadata in c:\\program files\\arcgis\\pro\\bin\\python\\envs\\arcgispro-py3\\lib\\site-packages (from fiona>=1.8.21->geopandas) (4.11.3)\n",
      "Requirement already satisfied: click~=8.0 in c:\\program files\\arcgis\\pro\\bin\\python\\envs\\arcgispro-py3\\lib\\site-packages (from fiona>=1.8.21->geopandas) (8.0.4)\n",
      "Requirement already satisfied: colorama in c:\\users\\hq8312\\appdata\\roaming\\python\\python39\\site-packages (from click~=8.0->fiona>=1.8.21->geopandas) (0.4.6)\n",
      "Requirement already satisfied: pytz>=2020.1 in c:\\program files\\arcgis\\pro\\bin\\python\\envs\\arcgispro-py3\\lib\\site-packages\\pytz-2022.1-py3.9.egg (from pandas>=1.4.0->geopandas) (2022.1)\n",
      "Requirement already satisfied: python-dateutil>=2.8.1 in c:\\program files\\arcgis\\pro\\bin\\python\\envs\\arcgispro-py3\\lib\\site-packages (from pandas>=1.4.0->geopandas) (2.8.2)\n",
      "Requirement already satisfied: zipp>=0.5 in c:\\program files\\arcgis\\pro\\bin\\python\\envs\\arcgispro-py3\\lib\\site-packages (from importlib-metadata->fiona>=1.8.21->geopandas) (3.7.0)\n",
      "Requirement already satisfied: pyparsing!=3.0.5,>=2.0.2 in c:\\program files\\arcgis\\pro\\bin\\python\\envs\\arcgispro-py3\\lib\\site-packages (from packaging->geopandas) (3.0.4)\n"
     ]
    }
   ],
   "source": [
    "!pip install geopandas shapely\n"
   ]
  },
  {
   "cell_type": "code",
   "execution_count": 4,
   "id": "b4be0819",
   "metadata": {},
   "outputs": [],
   "source": [
    "# import geopandas as gpd\n",
    "# from shapely.geometry import MultiPoint\n",
    "# from collections import defaultdict\n",
    "# import itertools\n",
    "\n",
    "# # Load the polyline shapefile\n",
    "# polyline_gdf = gpd.read_file(\"road.shp\")\n",
    "\n",
    "# # Prepare a dictionary to store intersection points with the count of intersecting lines\n",
    "# intersection_counts = defaultdict(int)\n",
    "\n",
    "# # Finding intersections\n",
    "# for line1, line2 in itertools.combinations(polyline_gdf.geometry, 2):\n",
    "#     if line1.intersects(line2):\n",
    "#         intersection = line1.intersection(line2)\n",
    "\n",
    "#         # Handle point or multipoint intersections using geom_type\n",
    "#         if intersection.geom_type == 'Point':\n",
    "#             intersection_counts[intersection] += 1\n",
    "#         elif intersection.geom_type == 'MultiPoint':\n",
    "#             # Properly iterate over MultiPoint\n",
    "#             for point in intersection.geoms:\n",
    "#                 intersection_counts[point] += 1\n",
    "\n",
    "# # Filter out intersections where only two lines intersect\n",
    "# multi_line_intersections = [point for point, count in intersection_counts.items() if count > 1]\n",
    "\n",
    "# # Create a GeoDataFrame with the intersection points\n",
    "# multi_intersection_gdf = gpd.GeoDataFrame(geometry=multi_line_intersections)\n",
    "\n",
    "# # Set the same CRS as the polyline shapefile\n",
    "# multi_intersection_gdf.crs = polyline_gdf.crs\n",
    "\n",
    "# # Save to a new shapefile\n",
    "# multi_intersection_gdf.to_file(\"multi_line_intersections.shp\")\n"
   ]
  },
  {
   "cell_type": "code",
   "execution_count": 5,
   "id": "672d9b60",
   "metadata": {},
   "outputs": [
    {
     "name": "stdout",
     "output_type": "stream",
     "text": [
      "Defaulting to user installation because normal site-packages is not writeable\n",
      "Collecting osmnx\n",
      "  Downloading osmnx-1.7.1-py3-none-any.whl (102 kB)\n",
      "Requirement already satisfied: numpy>=1.20 in c:\\users\\hq8312\\appdata\\roaming\\python\\python39\\site-packages (from osmnx) (1.26.1)\n",
      "Requirement already satisfied: networkx>=2.5 in c:\\program files\\arcgis\\pro\\bin\\python\\envs\\arcgispro-py3\\lib\\site-packages (from osmnx) (2.7.1)\n",
      "Requirement already satisfied: shapely>=2.0 in c:\\users\\hq8312\\appdata\\roaming\\python\\python39\\site-packages (from osmnx) (2.0.2)\n",
      "Requirement already satisfied: pandas>=1.1 in c:\\users\\hq8312\\appdata\\roaming\\python\\python39\\site-packages (from osmnx) (1.5.3)\n",
      "Requirement already satisfied: requests>=2.27 in c:\\program files\\arcgis\\pro\\bin\\python\\envs\\arcgispro-py3\\lib\\site-packages (from osmnx) (2.27.1)\n",
      "Requirement already satisfied: geopandas>=0.12 in c:\\users\\hq8312\\appdata\\roaming\\python\\python39\\site-packages (from osmnx) (0.14.1)\n",
      "Requirement already satisfied: pyproj>=3.3.0 in c:\\users\\hq8312\\appdata\\roaming\\python\\python39\\site-packages (from geopandas>=0.12->osmnx) (3.6.1)\n",
      "Requirement already satisfied: packaging in c:\\program files\\arcgis\\pro\\bin\\python\\envs\\arcgispro-py3\\lib\\site-packages (from geopandas>=0.12->osmnx) (21.3)\n",
      "Requirement already satisfied: fiona>=1.8.21 in c:\\users\\hq8312\\appdata\\roaming\\python\\python39\\site-packages (from geopandas>=0.12->osmnx) (1.9.5)\n",
      "Requirement already satisfied: setuptools in c:\\program files\\arcgis\\pro\\bin\\python\\envs\\arcgispro-py3\\lib\\site-packages (from fiona>=1.8.21->geopandas>=0.12->osmnx) (60.10.0)\n",
      "Requirement already satisfied: cligj>=0.5 in c:\\users\\hq8312\\appdata\\roaming\\python\\python39\\site-packages (from fiona>=1.8.21->geopandas>=0.12->osmnx) (0.7.2)\n",
      "Requirement already satisfied: six in c:\\program files\\arcgis\\pro\\bin\\python\\envs\\arcgispro-py3\\lib\\site-packages (from fiona>=1.8.21->geopandas>=0.12->osmnx) (1.16.0)\n",
      "Requirement already satisfied: click~=8.0 in c:\\program files\\arcgis\\pro\\bin\\python\\envs\\arcgispro-py3\\lib\\site-packages (from fiona>=1.8.21->geopandas>=0.12->osmnx) (8.0.4)\n",
      "Requirement already satisfied: certifi in c:\\program files\\arcgis\\pro\\bin\\python\\envs\\arcgispro-py3\\lib\\site-packages (from fiona>=1.8.21->geopandas>=0.12->osmnx) (2021.10.8)\n",
      "Requirement already satisfied: importlib-metadata in c:\\program files\\arcgis\\pro\\bin\\python\\envs\\arcgispro-py3\\lib\\site-packages (from fiona>=1.8.21->geopandas>=0.12->osmnx) (4.11.3)\n",
      "Requirement already satisfied: click-plugins>=1.0 in c:\\users\\hq8312\\appdata\\roaming\\python\\python39\\site-packages (from fiona>=1.8.21->geopandas>=0.12->osmnx) (1.1.1)\n",
      "Requirement already satisfied: attrs>=19.2.0 in c:\\program files\\arcgis\\pro\\bin\\python\\envs\\arcgispro-py3\\lib\\site-packages (from fiona>=1.8.21->geopandas>=0.12->osmnx) (21.4.0)\n",
      "Requirement already satisfied: colorama in c:\\users\\hq8312\\appdata\\roaming\\python\\python39\\site-packages (from click~=8.0->fiona>=1.8.21->geopandas>=0.12->osmnx) (0.4.6)\n",
      "Requirement already satisfied: python-dateutil>=2.8.1 in c:\\program files\\arcgis\\pro\\bin\\python\\envs\\arcgispro-py3\\lib\\site-packages (from pandas>=1.1->osmnx) (2.8.2)\n",
      "Requirement already satisfied: pytz>=2020.1 in c:\\program files\\arcgis\\pro\\bin\\python\\envs\\arcgispro-py3\\lib\\site-packages\\pytz-2022.1-py3.9.egg (from pandas>=1.1->osmnx) (2022.1)\n",
      "Requirement already satisfied: urllib3<1.27,>=1.21.1 in c:\\program files\\arcgis\\pro\\bin\\python\\envs\\arcgispro-py3\\lib\\site-packages (from requests>=2.27->osmnx) (1.26.8)\n",
      "Requirement already satisfied: idna<4,>=2.5 in c:\\program files\\arcgis\\pro\\bin\\python\\envs\\arcgispro-py3\\lib\\site-packages (from requests>=2.27->osmnx) (3.3)\n",
      "Requirement already satisfied: charset-normalizer~=2.0.0 in c:\\program files\\arcgis\\pro\\bin\\python\\envs\\arcgispro-py3\\lib\\site-packages (from requests>=2.27->osmnx) (2.0.4)\n",
      "Requirement already satisfied: zipp>=0.5 in c:\\program files\\arcgis\\pro\\bin\\python\\envs\\arcgispro-py3\\lib\\site-packages (from importlib-metadata->fiona>=1.8.21->geopandas>=0.12->osmnx) (3.7.0)\n",
      "Requirement already satisfied: pyparsing!=3.0.5,>=2.0.2 in c:\\program files\\arcgis\\pro\\bin\\python\\envs\\arcgispro-py3\\lib\\site-packages (from packaging->geopandas>=0.12->osmnx) (3.0.4)\n",
      "Installing collected packages: osmnx\n",
      "Successfully installed osmnx-1.7.1\n"
     ]
    }
   ],
   "source": [
    "!pip install osmnx\n"
   ]
  },
  {
   "cell_type": "code",
   "execution_count": 6,
   "id": "520c328a",
   "metadata": {},
   "outputs": [
    {
     "name": "stderr",
     "output_type": "stream",
     "text": [
      "<ipython-input-6-303703a27e54>:13: UserWarning: Column names longer than 10 characters will be truncated when saved to ESRI Shapefile.\n",
      "  intersections.to_file('sacramento_intersections.shp')\n"
     ]
    }
   ],
   "source": [
    "import osmnx as ox\n",
    "\n",
    "# Specify the location\n",
    "place = \"California, USA\"\n",
    "\n",
    "# Download the road network\n",
    "network = ox.graph_from_place(place, network_type='drive')\n",
    "\n",
    "# Extract intersections as a GeoDataFrame\n",
    "intersections = ox.graph_to_gdfs(network, nodes=True, edges=False)\n",
    "\n",
    "# You can then save this to a shapefile\n",
    "intersections.to_file('California.shp')\n"
   ]
  },
  {
   "cell_type": "code",
   "execution_count": 7,
   "id": "4261387c",
   "metadata": {},
   "outputs": [
    {
     "name": "stdout",
     "output_type": "stream",
     "text": [
      "Defaulting to user installation because normal site-packages is not writeable\n",
      "Requirement already satisfied: fiona in c:\\users\\hq8312\\appdata\\roaming\\python\\python39\\site-packages (1.9.5)\n",
      "Requirement already satisfied: click-plugins>=1.0 in c:\\users\\hq8312\\appdata\\roaming\\python\\python39\\site-packages (from fiona) (1.1.1)\n",
      "Requirement already satisfied: importlib-metadata in c:\\program files\\arcgis\\pro\\bin\\python\\envs\\arcgispro-py3\\lib\\site-packages (from fiona) (4.11.3)\n",
      "Requirement already satisfied: setuptools in c:\\program files\\arcgis\\pro\\bin\\python\\envs\\arcgispro-py3\\lib\\site-packages (from fiona) (60.10.0)\n",
      "Requirement already satisfied: six in c:\\program files\\arcgis\\pro\\bin\\python\\envs\\arcgispro-py3\\lib\\site-packages (from fiona) (1.16.0)\n",
      "Requirement already satisfied: cligj>=0.5 in c:\\users\\hq8312\\appdata\\roaming\\python\\python39\\site-packages (from fiona) (0.7.2)\n",
      "Requirement already satisfied: attrs>=19.2.0 in c:\\program files\\arcgis\\pro\\bin\\python\\envs\\arcgispro-py3\\lib\\site-packages (from fiona) (21.4.0)\n",
      "Requirement already satisfied: click~=8.0 in c:\\program files\\arcgis\\pro\\bin\\python\\envs\\arcgispro-py3\\lib\\site-packages (from fiona) (8.0.4)\n",
      "Requirement already satisfied: certifi in c:\\program files\\arcgis\\pro\\bin\\python\\envs\\arcgispro-py3\\lib\\site-packages (from fiona) (2021.10.8)\n",
      "Requirement already satisfied: colorama in c:\\users\\hq8312\\appdata\\roaming\\python\\python39\\site-packages (from click~=8.0->fiona) (0.4.6)\n",
      "Requirement already satisfied: zipp>=0.5 in c:\\program files\\arcgis\\pro\\bin\\python\\envs\\arcgispro-py3\\lib\\site-packages (from importlib-metadata->fiona) (3.7.0)\n"
     ]
    }
   ],
   "source": [
    "!pip install fiona"
   ]
  },
  {
   "cell_type": "code",
   "execution_count": 12,
   "id": "7e7e736c",
   "metadata": {},
   "outputs": [
    {
     "data": {
      "text/plain": [
       "(-122.39099292808112,\n",
       " 38.02430800011416,\n",
       " -121.02717590424453,\n",
       " 39.19672099987429)"
      ]
     },
     "execution_count": 12,
     "metadata": {},
     "output_type": "execute_result"
    }
   ],
   "source": [
    "import fiona\n",
    "\n",
    "shp_file = 'road.shp'\n",
    "c = fiona.open(shp_file)\n",
    "c.bounds "
   ]
  },
  {
   "cell_type": "code",
   "execution_count": null,
   "id": "37f0f8e9",
   "metadata": {},
   "outputs": [],
   "source": [
    "import osmnx as ox\n",
    "\n",
    "# Define your bounding box [south, west, north, east]\n",
    "bbox = [-122.39099292808112, 38.02430800011416, -121.02717590424453, 39.19672099987429]\n",
    "\n",
    "# Download the road network within the bounding box\n",
    "network = ox.graph_from_bbox(*bbox, network_type='drive')\n",
    "\n",
    "# Extract intersections\n",
    "intersections = ox.graph_to_gdfs(network, nodes=True, edges=False)\n",
    "\n",
    "# Save to a shapefile\n",
    "intersections.to_file('bbox_intersections.shp')\n"
   ]
  }
 ],
 "metadata": {
  "kernelspec": {
   "display_name": "Python 3",
   "language": "python",
   "name": "python3"
  },
  "language_info": {
   "codemirror_mode": {
    "name": "ipython",
    "version": 3
   },
   "file_extension": ".py",
   "mimetype": "text/x-python",
   "name": "python",
   "nbconvert_exporter": "python",
   "pygments_lexer": "ipython3",
   "version": "3.9.11"
  }
 },
 "nbformat": 4,
 "nbformat_minor": 5
}
